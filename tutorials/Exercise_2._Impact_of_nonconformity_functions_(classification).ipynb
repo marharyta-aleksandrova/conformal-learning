{
 "cells": [
  {
   "cell_type": "markdown",
   "id": "038b1505",
   "metadata": {},
   "source": [
    "[![Open In Colab](https://colab.research.google.com/assets/colab-badge.svg)](https://colab.research.google.com/github/marharyta-aleksandrova/conformal-learning/blob/main/tutorials/Exercise_2._Impact_of_nonconformity_functions_classification.ipynb)"
   ]
  },
  {
   "cell_type": "markdown",
   "id": "f1a3c979",
   "metadata": {},
   "source": [
    "Installing `nonconformist` library (uncomment the cells below)"
   ]
  },
  {
   "cell_type": "code",
   "execution_count": 1,
   "id": "fb34f32b",
   "metadata": {},
   "outputs": [],
   "source": [
    "# !git clone https://github.com/donlnz/nonconformist"
   ]
  },
  {
   "cell_type": "code",
   "execution_count": 2,
   "id": "6bdb3ae1",
   "metadata": {},
   "outputs": [],
   "source": [
    "# cd nonconformist"
   ]
  },
  {
   "cell_type": "code",
   "execution_count": 3,
   "id": "6fb44819",
   "metadata": {},
   "outputs": [],
   "source": [
    "# !python setup.py install"
   ]
  },
 {
   "cell_type": "code",
   "execution_count": 3,
   "id": "bc76c6d2",
   "metadata": {},
   "outputs": [],
   "source": [
    "pip install pandas==1.5.3"
   ]
  },
  {
   "cell_type": "markdown",
   "id": "8771efa3",
   "metadata": {},
   "source": [
    "# Imports"
   ]
  },
  {
   "cell_type": "code",
   "execution_count": 4,
   "id": "b6179f00",
   "metadata": {},
   "outputs": [],
   "source": [
    "import numpy as np\n",
    "\n",
    "from sklearn.ensemble import RandomForestClassifier, AdaBoostClassifier\n",
    "from sklearn.svm import SVC\n",
    "from sklearn.neighbors import KNeighborsClassifier\n",
    "\n",
    "from sklearn.datasets import load_iris\n",
    "\n",
    "from nonconformist.base import ClassifierAdapter\n",
    "from nonconformist.icp import IcpClassifier\n",
    "from nonconformist.nc import MarginErrFunc, InverseProbabilityErrFunc\n",
    "from nonconformist.nc import ClassifierNc\n",
    "from nonconformist.nc import NcFactory\n",
    "\n",
    "from nonconformist.evaluation import cross_val_score\n",
    "from nonconformist.evaluation import ClassIcpCvHelper\n",
    "from nonconformist.evaluation import class_avg_c, class_mean_errors, class_one_c, class_one_err, \\\n",
    "    class_mean_errors_one_class, class_one_err_one_class, class_mean_p_val, class_empty, n_test\n",
    "\n",
    "import random\n",
    "import matplotlib.pyplot as plt\n",
    "\n",
    "import pandas as pd"
   ]
  },
  {
   "cell_type": "markdown",
   "id": "c01a5dcf",
   "metadata": {},
   "source": [
    "# Iris data"
   ]
  },
  {
   "cell_type": "markdown",
   "id": "4548be95",
   "metadata": {},
   "source": [
    "## Margin vs IP"
   ]
  },
  {
   "cell_type": "markdown",
   "id": "88246dc8",
   "metadata": {},
   "source": [
    "Loading data"
   ]
  },
  {
   "cell_type": "code",
   "execution_count": 5,
   "id": "1317efaf",
   "metadata": {},
   "outputs": [],
   "source": [
    "data = load_iris()"
   ]
  },
  {
   "cell_type": "markdown",
   "id": "d2650755",
   "metadata": {},
   "source": [
    "Inverse Probability"
   ]
  },
  {
   "cell_type": "code",
   "execution_count": 6,
   "id": "ee036a3d",
   "metadata": {},
   "outputs": [
    {
     "name": "stdout",
     "output_type": "stream",
     "text": [
      "iter 5/5 fold 5/5InverseProbabilityErrFunc\n"
     ]
    },
    {
     "data": {
      "text/html": [
       "<div>\n",
       "<style scoped>\n",
       "    .dataframe tbody tr th:only-of-type {\n",
       "        vertical-align: middle;\n",
       "    }\n",
       "\n",
       "    .dataframe tbody tr th {\n",
       "        vertical-align: top;\n",
       "    }\n",
       "\n",
       "    .dataframe thead th {\n",
       "        text-align: right;\n",
       "    }\n",
       "</style>\n",
       "<table border=\"1\" class=\"dataframe\">\n",
       "  <thead>\n",
       "    <tr style=\"text-align: right;\">\n",
       "      <th></th>\n",
       "      <th>class_mean_errors</th>\n",
       "      <th>class_avg_c</th>\n",
       "      <th>class_one_c</th>\n",
       "      <th>class_empty</th>\n",
       "    </tr>\n",
       "    <tr>\n",
       "      <th>significance</th>\n",
       "      <th></th>\n",
       "      <th></th>\n",
       "      <th></th>\n",
       "      <th></th>\n",
       "    </tr>\n",
       "  </thead>\n",
       "  <tbody>\n",
       "    <tr>\n",
       "      <th>0.05</th>\n",
       "      <td>0.033333</td>\n",
       "      <td>1.176000</td>\n",
       "      <td>0.850667</td>\n",
       "      <td>0.009333</td>\n",
       "    </tr>\n",
       "    <tr>\n",
       "      <th>0.10</th>\n",
       "      <td>0.101333</td>\n",
       "      <td>0.917333</td>\n",
       "      <td>0.906667</td>\n",
       "      <td>0.088000</td>\n",
       "    </tr>\n",
       "    <tr>\n",
       "      <th>0.20</th>\n",
       "      <td>0.185333</td>\n",
       "      <td>0.821333</td>\n",
       "      <td>0.821333</td>\n",
       "      <td>0.178667</td>\n",
       "    </tr>\n",
       "  </tbody>\n",
       "</table>\n",
       "</div>"
      ],
      "text/plain": [
       "              class_mean_errors  class_avg_c  class_one_c  class_empty\n",
       "significance                                                          \n",
       "0.05                   0.033333     1.176000     0.850667     0.009333\n",
       "0.10                   0.101333     0.917333     0.906667     0.088000\n",
       "0.20                   0.185333     0.821333     0.821333     0.178667"
      ]
     },
     "execution_count": 6,
     "metadata": {},
     "output_type": "execute_result"
    }
   ],
   "source": [
    "icp = IcpClassifier(ClassifierNc(ClassifierAdapter(RandomForestClassifier(n_estimators=100),\n",
    "                                                   #KNeighborsClassifier(n_neighbors=10),\n",
    "                                                   #AdaBoostClassifier(),\n",
    "                                                  ), \n",
    "                                 err_func=InverseProbabilityErrFunc()), \n",
    "                    smoothing=False)\n",
    "icp_cv = ClassIcpCvHelper(icp)\n",
    "\n",
    "np.random.seed(10)\n",
    "random.seed(10)\n",
    "\n",
    "scores = cross_val_score(icp_cv,\n",
    "                         data['data'],\n",
    "                         data['target'],\n",
    "                         iterations=5,\n",
    "                         folds=5,\n",
    "                         scoring_funcs=[\n",
    "                             class_mean_errors,\n",
    "                             class_avg_c,\n",
    "                             class_one_c,\n",
    "                             class_empty,\n",
    "                         ],\n",
    "                         significance_levels=[0.05, 0.1, 0.2],\n",
    "                         verbose=True,\n",
    "                         )\n",
    "\n",
    "print('InverseProbabilityErrFunc')\n",
    "\n",
    "scores = scores.drop(['fold', 'iter'], axis=1)\n",
    "scores_ip = scores.groupby(['significance']).mean()\n",
    "scores_ip"
   ]
  },
  {
   "cell_type": "markdown",
   "id": "11c672a4",
   "metadata": {},
   "source": [
    "Margin"
   ]
  },
  {
   "cell_type": "code",
   "execution_count": 7,
   "id": "9bcb855d",
   "metadata": {},
   "outputs": [
    {
     "name": "stdout",
     "output_type": "stream",
     "text": [
      "iter 5/5 fold 5/5MarginErrFunc\n"
     ]
    },
    {
     "data": {
      "text/html": [
       "<div>\n",
       "<style scoped>\n",
       "    .dataframe tbody tr th:only-of-type {\n",
       "        vertical-align: middle;\n",
       "    }\n",
       "\n",
       "    .dataframe tbody tr th {\n",
       "        vertical-align: top;\n",
       "    }\n",
       "\n",
       "    .dataframe thead th {\n",
       "        text-align: right;\n",
       "    }\n",
       "</style>\n",
       "<table border=\"1\" class=\"dataframe\">\n",
       "  <thead>\n",
       "    <tr style=\"text-align: right;\">\n",
       "      <th></th>\n",
       "      <th>class_mean_errors</th>\n",
       "      <th>class_avg_c</th>\n",
       "      <th>class_one_c</th>\n",
       "      <th>class_empty</th>\n",
       "    </tr>\n",
       "    <tr>\n",
       "      <th>significance</th>\n",
       "      <th></th>\n",
       "      <th></th>\n",
       "      <th></th>\n",
       "      <th></th>\n",
       "    </tr>\n",
       "  </thead>\n",
       "  <tbody>\n",
       "    <tr>\n",
       "      <th>0.05</th>\n",
       "      <td>0.033333</td>\n",
       "      <td>1.221333</td>\n",
       "      <td>0.852000</td>\n",
       "      <td>0.009333</td>\n",
       "    </tr>\n",
       "    <tr>\n",
       "      <th>0.10</th>\n",
       "      <td>0.101333</td>\n",
       "      <td>0.920000</td>\n",
       "      <td>0.908000</td>\n",
       "      <td>0.086667</td>\n",
       "    </tr>\n",
       "    <tr>\n",
       "      <th>0.20</th>\n",
       "      <td>0.185333</td>\n",
       "      <td>0.821333</td>\n",
       "      <td>0.821333</td>\n",
       "      <td>0.178667</td>\n",
       "    </tr>\n",
       "  </tbody>\n",
       "</table>\n",
       "</div>"
      ],
      "text/plain": [
       "              class_mean_errors  class_avg_c  class_one_c  class_empty\n",
       "significance                                                          \n",
       "0.05                   0.033333     1.221333     0.852000     0.009333\n",
       "0.10                   0.101333     0.920000     0.908000     0.086667\n",
       "0.20                   0.185333     0.821333     0.821333     0.178667"
      ]
     },
     "execution_count": 7,
     "metadata": {},
     "output_type": "execute_result"
    }
   ],
   "source": [
    "icp = IcpClassifier(ClassifierNc(ClassifierAdapter(RandomForestClassifier(n_estimators=100),\n",
    "                                                   #KNeighborsClassifier(n_neighbors=10),\n",
    "                                                   #AdaBoostClassifier(),\n",
    "                                                  ), \n",
    "                                 err_func=MarginErrFunc()), \n",
    "                    smoothing=False)\n",
    "icp_cv = ClassIcpCvHelper(icp)\n",
    "\n",
    "np.random.seed(10)\n",
    "random.seed(10)\n",
    "\n",
    "scores = cross_val_score(icp_cv,\n",
    "                         data['data'],\n",
    "                         data['target'],\n",
    "                         iterations=5,\n",
    "                         folds=5,\n",
    "                         scoring_funcs=[\n",
    "                             class_mean_errors,\n",
    "                             class_avg_c,\n",
    "                             class_one_c,\n",
    "                             class_empty,\n",
    "                         ],\n",
    "                         significance_levels=[0.05, 0.1, 0.2],\n",
    "                         verbose=True,\n",
    "                         )\n",
    "\n",
    "print('MarginErrFunc')\n",
    "\n",
    "scores = scores.drop(['fold', 'iter'], axis=1)\n",
    "scores_m = scores.groupby(['significance']).mean()\n",
    "scores_m"
   ]
  },
  {
   "cell_type": "markdown",
   "id": "316af6c2",
   "metadata": {},
   "source": [
    "### Analysing validity"
   ]
  },
  {
   "cell_type": "code",
   "execution_count": 8,
   "id": "b5cc42f2",
   "metadata": {},
   "outputs": [
    {
     "data": {
      "image/png": "[encoded data removed]",
      "text/plain": [
       "<Figure size 432x288 with 1 Axes>"
      ]
     },
     "metadata": {
      "needs_background": "light"
     },
     "output_type": "display_data"
    }
   ],
   "source": [
    "plt.plot(scores_m.index, scores_m['class_mean_errors'])\n",
    "plt.plot(scores_ip.index, scores_ip['class_mean_errors'], )\n",
    "plt.grid(True)\n",
    "plt.xticks(scores_m.index)\n",
    "plt.yticks(scores_m.index)\n",
    "plt.title('Validity')\n",
    "plt.legend(['margin', 'IP'])\n",
    "plt.show()"
   ]
  },
  {
   "cell_type": "markdown",
   "id": "1a0db446",
   "metadata": {},
   "source": [
    "### $avgC$"
   ]
  },
  {
   "cell_type": "code",
   "execution_count": 9,
   "id": "2ddb5119",
   "metadata": {},
   "outputs": [
    {
     "name": "stdout",
     "output_type": "stream",
     "text": [
      "class_avg_c\n"
     ]
    },
    {
     "data": {
      "text/html": [
       "<div>\n",
       "<style scoped>\n",
       "    .dataframe tbody tr th:only-of-type {\n",
       "        vertical-align: middle;\n",
       "    }\n",
       "\n",
       "    .dataframe tbody tr th {\n",
       "        vertical-align: top;\n",
       "    }\n",
       "\n",
       "    .dataframe thead th {\n",
       "        text-align: right;\n",
       "    }\n",
       "</style>\n",
       "<table border=\"1\" class=\"dataframe\">\n",
       "  <thead>\n",
       "    <tr style=\"text-align: right;\">\n",
       "      <th></th>\n",
       "      <th>margin</th>\n",
       "      <th>IP</th>\n",
       "    </tr>\n",
       "    <tr>\n",
       "      <th>significance</th>\n",
       "      <th></th>\n",
       "      <th></th>\n",
       "    </tr>\n",
       "  </thead>\n",
       "  <tbody>\n",
       "    <tr>\n",
       "      <th>0.05</th>\n",
       "      <td>1.221333</td>\n",
       "      <td>1.176000</td>\n",
       "    </tr>\n",
       "    <tr>\n",
       "      <th>0.10</th>\n",
       "      <td>0.920000</td>\n",
       "      <td>0.917333</td>\n",
       "    </tr>\n",
       "    <tr>\n",
       "      <th>0.20</th>\n",
       "      <td>0.821333</td>\n",
       "      <td>0.821333</td>\n",
       "    </tr>\n",
       "  </tbody>\n",
       "</table>\n",
       "</div>"
      ],
      "text/plain": [
       "                margin        IP\n",
       "significance                    \n",
       "0.05          1.221333  1.176000\n",
       "0.10          0.920000  0.917333\n",
       "0.20          0.821333  0.821333"
      ]
     },
     "execution_count": 9,
     "metadata": {},
     "output_type": "execute_result"
    }
   ],
   "source": [
    "col = 'class_avg_c'\n",
    "tmp = pd.DataFrame({\n",
    "    'margin': scores_m[col],\n",
    "    'IP': scores_ip[col],\n",
    "})\n",
    "print(col)\n",
    "tmp"
   ]
  },
  {
   "cell_type": "code",
   "execution_count": 10,
   "id": "439dec5b",
   "metadata": {
    "scrolled": true
   },
   "outputs": [
    {
     "data": {
      "image/png": "[encoded data removed]",
      "text/plain": [
       "<Figure size 432x288 with 1 Axes>"
      ]
     },
     "metadata": {
      "needs_background": "light"
     },
     "output_type": "display_data"
    }
   ],
   "source": [
    "plt.plot(scores_m.index, scores_m['class_avg_c'], c='b')\n",
    "plt.plot(scores_ip.index, scores_ip['class_avg_c'], c='orange')\n",
    "plt.grid(True)\n",
    "plt.xticks(scores_m.index)\n",
    "plt.title('$avgC$')\n",
    "plt.legend(['margin', 'IP'])\n",
    "plt.show()"
   ]
  },
  {
   "cell_type": "markdown",
   "id": "a1c94c8a",
   "metadata": {},
   "source": [
    "### $oneC$, $zeroC$"
   ]
  },
  {
   "cell_type": "code",
   "execution_count": 11,
   "id": "6c8bc7fd",
   "metadata": {},
   "outputs": [
    {
     "name": "stdout",
     "output_type": "stream",
     "text": [
      "class_one_c\n"
     ]
    },
    {
     "data": {
      "text/html": [
       "<div>\n",
       "<style scoped>\n",
       "    .dataframe tbody tr th:only-of-type {\n",
       "        vertical-align: middle;\n",
       "    }\n",
       "\n",
       "    .dataframe tbody tr th {\n",
       "        vertical-align: top;\n",
       "    }\n",
       "\n",
       "    .dataframe thead th {\n",
       "        text-align: right;\n",
       "    }\n",
       "</style>\n",
       "<table border=\"1\" class=\"dataframe\">\n",
       "  <thead>\n",
       "    <tr style=\"text-align: right;\">\n",
       "      <th></th>\n",
       "      <th>margin</th>\n",
       "      <th>IP</th>\n",
       "    </tr>\n",
       "    <tr>\n",
       "      <th>significance</th>\n",
       "      <th></th>\n",
       "      <th></th>\n",
       "    </tr>\n",
       "  </thead>\n",
       "  <tbody>\n",
       "    <tr>\n",
       "      <th>0.05</th>\n",
       "      <td>0.852000</td>\n",
       "      <td>0.850667</td>\n",
       "    </tr>\n",
       "    <tr>\n",
       "      <th>0.10</th>\n",
       "      <td>0.908000</td>\n",
       "      <td>0.906667</td>\n",
       "    </tr>\n",
       "    <tr>\n",
       "      <th>0.20</th>\n",
       "      <td>0.821333</td>\n",
       "      <td>0.821333</td>\n",
       "    </tr>\n",
       "  </tbody>\n",
       "</table>\n",
       "</div>"
      ],
      "text/plain": [
       "                margin        IP\n",
       "significance                    \n",
       "0.05          0.852000  0.850667\n",
       "0.10          0.908000  0.906667\n",
       "0.20          0.821333  0.821333"
      ]
     },
     "execution_count": 11,
     "metadata": {},
     "output_type": "execute_result"
    }
   ],
   "source": [
    "col = 'class_one_c'\n",
    "tmp = pd.DataFrame({\n",
    "    'margin': scores_m[col],\n",
    "    'IP': scores_ip[col],\n",
    "})\n",
    "print(col)\n",
    "tmp"
   ]
  },
  {
   "cell_type": "code",
   "execution_count": 12,
   "id": "2f712cd3",
   "metadata": {},
   "outputs": [
    {
     "name": "stdout",
     "output_type": "stream",
     "text": [
      "class_empty\n"
     ]
    },
    {
     "data": {
      "text/html": [
       "<div>\n",
       "<style scoped>\n",
       "    .dataframe tbody tr th:only-of-type {\n",
       "        vertical-align: middle;\n",
       "    }\n",
       "\n",
       "    .dataframe tbody tr th {\n",
       "        vertical-align: top;\n",
       "    }\n",
       "\n",
       "    .dataframe thead th {\n",
       "        text-align: right;\n",
       "    }\n",
       "</style>\n",
       "<table border=\"1\" class=\"dataframe\">\n",
       "  <thead>\n",
       "    <tr style=\"text-align: right;\">\n",
       "      <th></th>\n",
       "      <th>margin</th>\n",
       "      <th>IP</th>\n",
       "    </tr>\n",
       "    <tr>\n",
       "      <th>significance</th>\n",
       "      <th></th>\n",
       "      <th></th>\n",
       "    </tr>\n",
       "  </thead>\n",
       "  <tbody>\n",
       "    <tr>\n",
       "      <th>0.05</th>\n",
       "      <td>0.009333</td>\n",
       "      <td>0.009333</td>\n",
       "    </tr>\n",
       "    <tr>\n",
       "      <th>0.10</th>\n",
       "      <td>0.086667</td>\n",
       "      <td>0.088000</td>\n",
       "    </tr>\n",
       "    <tr>\n",
       "      <th>0.20</th>\n",
       "      <td>0.178667</td>\n",
       "      <td>0.178667</td>\n",
       "    </tr>\n",
       "  </tbody>\n",
       "</table>\n",
       "</div>"
      ],
      "text/plain": [
       "                margin        IP\n",
       "significance                    \n",
       "0.05          0.009333  0.009333\n",
       "0.10          0.086667  0.088000\n",
       "0.20          0.178667  0.178667"
      ]
     },
     "execution_count": 12,
     "metadata": {},
     "output_type": "execute_result"
    }
   ],
   "source": [
    "col = 'class_empty'\n",
    "tmp = pd.DataFrame({\n",
    "    'margin': scores_m[col],\n",
    "    'IP': scores_ip[col],\n",
    "})\n",
    "print(col)\n",
    "tmp"
   ]
  },
  {
   "cell_type": "code",
   "execution_count": 13,
   "id": "cdfabcb7",
   "metadata": {},
   "outputs": [
    {
     "data": {
      "image/png": "[encoded data removed]",
      "text/plain": [
       "<Figure size 432x288 with 1 Axes>"
      ]
     },
     "metadata": {
      "needs_background": "light"
     },
     "output_type": "display_data"
    }
   ],
   "source": [
    "plt.plot(scores_m.index, scores_m['class_one_c'], c='b')\n",
    "plt.plot(scores_ip.index, scores_ip['class_one_c'], c='orange')\n",
    "\n",
    "plt.plot(scores_m.index, scores_m['class_empty'], '--', c='b',)\n",
    "plt.plot(scores_ip.index, scores_ip['class_empty'], '--', c='orange')\n",
    "\n",
    "plt.grid(True)\n",
    "plt.xticks(scores_m.index)\n",
    "plt.title('$oneC$, $zeroC$')\n",
    "plt.legend(['$oneC$: margin', '$oneC$: IP', '$zeroC$: margin', '$zeroC$: IP'])\n",
    "plt.show()"
   ]
  },
  {
   "cell_type": "markdown",
   "id": "be5ccff4",
   "metadata": {},
   "source": [
    "## Creating new nonconformity functions"
   ]
  },
  {
   "cell_type": "markdown",
   "id": "b237107a",
   "metadata": {},
   "source": [
    "Here, we introduce a nonconformity function for classification, where\n",
    "\n",
    "$\\alpha_i = \\sum_{y \\, \\neq \\, y_i} \\hat{P}\\left(y \\mid x_i \\right) ^ 2$"
   ]
  },
  {
   "cell_type": "code",
   "execution_count": 14,
   "id": "36bc7760",
   "metadata": {},
   "outputs": [],
   "source": [
    "from nonconformist.nc import ClassificationErrFunc\n",
    "\n",
    "class MyClassErrFunc(ClassificationErrFunc):\n",
    "    def __init__(self):\n",
    "        super(MyClassErrFunc, self).__init__()\n",
    "        \n",
    "    def apply(self, prediction, y):\n",
    "        '''\n",
    "            y is a vector of labels\n",
    "            prediction is a matrix of class probability estimates\n",
    "        '''\n",
    "        prob = np.zeros(y.size, dtype=np.float32)\n",
    "        for i, y_ in enumerate(y):\n",
    "            if y_ >= prediction.shape[1]:\n",
    "                prob[i] = 0\n",
    "            else:\n",
    "                prob[i] = (prediction[i, :] ** 2).sum()\n",
    "                prob[i] -= prediction[i, int(y_)] ** 2\n",
    "        return prob\n"
   ]
  },
  {
   "cell_type": "code",
   "execution_count": 15,
   "id": "7fa669a7",
   "metadata": {},
   "outputs": [
    {
     "name": "stdout",
     "output_type": "stream",
     "text": [
      "iter 5/5 fold 5/5myFunc\n"
     ]
    },
    {
     "data": {
      "text/html": [
       "<div>\n",
       "<style scoped>\n",
       "    .dataframe tbody tr th:only-of-type {\n",
       "        vertical-align: middle;\n",
       "    }\n",
       "\n",
       "    .dataframe tbody tr th {\n",
       "        vertical-align: top;\n",
       "    }\n",
       "\n",
       "    .dataframe thead th {\n",
       "        text-align: right;\n",
       "    }\n",
       "</style>\n",
       "<table border=\"1\" class=\"dataframe\">\n",
       "  <thead>\n",
       "    <tr style=\"text-align: right;\">\n",
       "      <th></th>\n",
       "      <th>class_mean_errors</th>\n",
       "      <th>class_avg_c</th>\n",
       "      <th>class_one_c</th>\n",
       "      <th>class_empty</th>\n",
       "    </tr>\n",
       "    <tr>\n",
       "      <th>significance</th>\n",
       "      <th></th>\n",
       "      <th></th>\n",
       "      <th></th>\n",
       "      <th></th>\n",
       "    </tr>\n",
       "  </thead>\n",
       "  <tbody>\n",
       "    <tr>\n",
       "      <th>0.05</th>\n",
       "      <td>0.032000</td>\n",
       "      <td>1.250667</td>\n",
       "      <td>0.850667</td>\n",
       "      <td>0.009333</td>\n",
       "    </tr>\n",
       "    <tr>\n",
       "      <th>0.10</th>\n",
       "      <td>0.101333</td>\n",
       "      <td>0.921333</td>\n",
       "      <td>0.908000</td>\n",
       "      <td>0.086667</td>\n",
       "    </tr>\n",
       "    <tr>\n",
       "      <th>0.20</th>\n",
       "      <td>0.185333</td>\n",
       "      <td>0.821333</td>\n",
       "      <td>0.821333</td>\n",
       "      <td>0.178667</td>\n",
       "    </tr>\n",
       "  </tbody>\n",
       "</table>\n",
       "</div>"
      ],
      "text/plain": [
       "              class_mean_errors  class_avg_c  class_one_c  class_empty\n",
       "significance                                                          \n",
       "0.05                   0.032000     1.250667     0.850667     0.009333\n",
       "0.10                   0.101333     0.921333     0.908000     0.086667\n",
       "0.20                   0.185333     0.821333     0.821333     0.178667"
      ]
     },
     "execution_count": 15,
     "metadata": {},
     "output_type": "execute_result"
    }
   ],
   "source": [
    "icp = IcpClassifier(ClassifierNc(ClassifierAdapter(RandomForestClassifier(n_estimators=100),\n",
    "                                                   #KNeighborsClassifier(n_neighbors=10),\n",
    "                                                   #AdaBoostClassifier(),\n",
    "                                                  ), \n",
    "                                 err_func=MyClassErrFunc()), \n",
    "                    smoothing=False)\n",
    "icp_cv = ClassIcpCvHelper(icp)\n",
    "\n",
    "np.random.seed(10)\n",
    "random.seed(10)\n",
    "\n",
    "scores = cross_val_score(icp_cv,\n",
    "                         data['data'],\n",
    "                         data['target'],\n",
    "                         iterations=5,\n",
    "                         folds=5,\n",
    "                         scoring_funcs=[\n",
    "                             class_mean_errors,\n",
    "                             class_avg_c,\n",
    "                             class_one_c,\n",
    "                             class_empty,\n",
    "                         ],\n",
    "                         significance_levels=[0.05, 0.1, 0.2],\n",
    "                         verbose=True,\n",
    "                         )\n",
    "\n",
    "print('myFunc')\n",
    "\n",
    "scores = scores.drop(['fold', 'iter'], axis=1)\n",
    "scores_myFunc = scores.groupby(['significance']).mean()\n",
    "scores_myFunc"
   ]
  },
  {
   "cell_type": "markdown",
   "id": "23eeb303",
   "metadata": {},
   "source": [
    "### Validity"
   ]
  },
  {
   "cell_type": "code",
   "execution_count": 16,
   "id": "1de7ff60",
   "metadata": {},
   "outputs": [
    {
     "data": {
      "image/png": "[encoded data removed]",
      "text/plain": [
       "<Figure size 432x288 with 1 Axes>"
      ]
     },
     "metadata": {
      "needs_background": "light"
     },
     "output_type": "display_data"
    }
   ],
   "source": [
    "plt.plot(scores_m.index, scores_m['class_mean_errors'])\n",
    "plt.plot(scores_ip.index, scores_ip['class_mean_errors'], )\n",
    "plt.plot(scores_ip.index, scores_myFunc['class_mean_errors'], )\n",
    "plt.grid(True)\n",
    "plt.xticks(scores_m.index)\n",
    "plt.yticks(scores_m.index)\n",
    "plt.title('Validity')\n",
    "plt.legend(['margin', 'IP', 'myFunc'])\n",
    "plt.show()"
   ]
  },
  {
   "cell_type": "markdown",
   "id": "660b0651",
   "metadata": {},
   "source": [
    "### $avgC$"
   ]
  },
  {
   "cell_type": "code",
   "execution_count": 17,
   "id": "db9c35db",
   "metadata": {},
   "outputs": [
    {
     "name": "stdout",
     "output_type": "stream",
     "text": [
      "class_avg_c\n"
     ]
    },
    {
     "data": {
      "text/html": [
       "<div>\n",
       "<style scoped>\n",
       "    .dataframe tbody tr th:only-of-type {\n",
       "        vertical-align: middle;\n",
       "    }\n",
       "\n",
       "    .dataframe tbody tr th {\n",
       "        vertical-align: top;\n",
       "    }\n",
       "\n",
       "    .dataframe thead th {\n",
       "        text-align: right;\n",
       "    }\n",
       "</style>\n",
       "<table border=\"1\" class=\"dataframe\">\n",
       "  <thead>\n",
       "    <tr style=\"text-align: right;\">\n",
       "      <th></th>\n",
       "      <th>margin</th>\n",
       "      <th>IP</th>\n",
       "      <th>myFunc</th>\n",
       "    </tr>\n",
       "    <tr>\n",
       "      <th>significance</th>\n",
       "      <th></th>\n",
       "      <th></th>\n",
       "      <th></th>\n",
       "    </tr>\n",
       "  </thead>\n",
       "  <tbody>\n",
       "    <tr>\n",
       "      <th>0.05</th>\n",
       "      <td>1.221333</td>\n",
       "      <td>1.176000</td>\n",
       "      <td>1.250667</td>\n",
       "    </tr>\n",
       "    <tr>\n",
       "      <th>0.10</th>\n",
       "      <td>0.920000</td>\n",
       "      <td>0.917333</td>\n",
       "      <td>0.921333</td>\n",
       "    </tr>\n",
       "    <tr>\n",
       "      <th>0.20</th>\n",
       "      <td>0.821333</td>\n",
       "      <td>0.821333</td>\n",
       "      <td>0.821333</td>\n",
       "    </tr>\n",
       "  </tbody>\n",
       "</table>\n",
       "</div>"
      ],
      "text/plain": [
       "                margin        IP    myFunc\n",
       "significance                              \n",
       "0.05          1.221333  1.176000  1.250667\n",
       "0.10          0.920000  0.917333  0.921333\n",
       "0.20          0.821333  0.821333  0.821333"
      ]
     },
     "execution_count": 17,
     "metadata": {},
     "output_type": "execute_result"
    }
   ],
   "source": [
    "col = 'class_avg_c'\n",
    "tmp = pd.DataFrame({\n",
    "    'margin': scores_m[col],\n",
    "    'IP': scores_ip[col],\n",
    "    'myFunc': scores_myFunc[col]\n",
    "})\n",
    "print(col)\n",
    "tmp"
   ]
  },
  {
   "cell_type": "code",
   "execution_count": 18,
   "id": "7e05b3e1",
   "metadata": {},
   "outputs": [
    {
     "data": {
      "image/png": "[encoded data removed]",
      "text/plain": [
       "<Figure size 432x288 with 1 Axes>"
      ]
     },
     "metadata": {
      "needs_background": "light"
     },
     "output_type": "display_data"
    }
   ],
   "source": [
    "plt.plot(scores_m.index, scores_m['class_avg_c'], c='b')\n",
    "plt.plot(scores_ip.index, scores_ip['class_avg_c'], c='orange')\n",
    "plt.plot(scores_ip.index, scores_myFunc['class_avg_c'], c='green')\n",
    "plt.grid(True)\n",
    "plt.xticks(scores_m.index)\n",
    "plt.title('$avgC$')\n",
    "plt.legend(['margin', 'IP', 'myFunc'])\n",
    "plt.show()"
   ]
  },
  {
   "cell_type": "markdown",
   "id": "c605481b",
   "metadata": {},
   "source": [
    "### $oneC$, $zeroC$"
   ]
  },
  {
   "cell_type": "code",
   "execution_count": 19,
   "id": "8f838527",
   "metadata": {},
   "outputs": [
    {
     "name": "stdout",
     "output_type": "stream",
     "text": [
      "class_one_c\n"
     ]
    },
    {
     "data": {
      "text/html": [
       "<div>\n",
       "<style scoped>\n",
       "    .dataframe tbody tr th:only-of-type {\n",
       "        vertical-align: middle;\n",
       "    }\n",
       "\n",
       "    .dataframe tbody tr th {\n",
       "        vertical-align: top;\n",
       "    }\n",
       "\n",
       "    .dataframe thead th {\n",
       "        text-align: right;\n",
       "    }\n",
       "</style>\n",
       "<table border=\"1\" class=\"dataframe\">\n",
       "  <thead>\n",
       "    <tr style=\"text-align: right;\">\n",
       "      <th></th>\n",
       "      <th>margin</th>\n",
       "      <th>IP</th>\n",
       "      <th>myFunc</th>\n",
       "    </tr>\n",
       "    <tr>\n",
       "      <th>significance</th>\n",
       "      <th></th>\n",
       "      <th></th>\n",
       "      <th></th>\n",
       "    </tr>\n",
       "  </thead>\n",
       "  <tbody>\n",
       "    <tr>\n",
       "      <th>0.05</th>\n",
       "      <td>0.852000</td>\n",
       "      <td>0.850667</td>\n",
       "      <td>0.850667</td>\n",
       "    </tr>\n",
       "    <tr>\n",
       "      <th>0.10</th>\n",
       "      <td>0.908000</td>\n",
       "      <td>0.906667</td>\n",
       "      <td>0.908000</td>\n",
       "    </tr>\n",
       "    <tr>\n",
       "      <th>0.20</th>\n",
       "      <td>0.821333</td>\n",
       "      <td>0.821333</td>\n",
       "      <td>0.821333</td>\n",
       "    </tr>\n",
       "  </tbody>\n",
       "</table>\n",
       "</div>"
      ],
      "text/plain": [
       "                margin        IP    myFunc\n",
       "significance                              \n",
       "0.05          0.852000  0.850667  0.850667\n",
       "0.10          0.908000  0.906667  0.908000\n",
       "0.20          0.821333  0.821333  0.821333"
      ]
     },
     "execution_count": 19,
     "metadata": {},
     "output_type": "execute_result"
    }
   ],
   "source": [
    "col = 'class_one_c'\n",
    "tmp = pd.DataFrame({\n",
    "    'margin': scores_m[col],\n",
    "    'IP': scores_ip[col],\n",
    "    'myFunc': scores_myFunc[col],\n",
    "})\n",
    "print(col)\n",
    "tmp"
   ]
  },
  {
   "cell_type": "code",
   "execution_count": 20,
   "id": "9bab909c",
   "metadata": {},
   "outputs": [
    {
     "name": "stdout",
     "output_type": "stream",
     "text": [
      "class_empty\n"
     ]
    },
    {
     "data": {
      "text/html": [
       "<div>\n",
       "<style scoped>\n",
       "    .dataframe tbody tr th:only-of-type {\n",
       "        vertical-align: middle;\n",
       "    }\n",
       "\n",
       "    .dataframe tbody tr th {\n",
       "        vertical-align: top;\n",
       "    }\n",
       "\n",
       "    .dataframe thead th {\n",
       "        text-align: right;\n",
       "    }\n",
       "</style>\n",
       "<table border=\"1\" class=\"dataframe\">\n",
       "  <thead>\n",
       "    <tr style=\"text-align: right;\">\n",
       "      <th></th>\n",
       "      <th>margin</th>\n",
       "      <th>IP</th>\n",
       "      <th>myFunc</th>\n",
       "    </tr>\n",
       "    <tr>\n",
       "      <th>significance</th>\n",
       "      <th></th>\n",
       "      <th></th>\n",
       "      <th></th>\n",
       "    </tr>\n",
       "  </thead>\n",
       "  <tbody>\n",
       "    <tr>\n",
       "      <th>0.05</th>\n",
       "      <td>0.009333</td>\n",
       "      <td>0.009333</td>\n",
       "      <td>0.009333</td>\n",
       "    </tr>\n",
       "    <tr>\n",
       "      <th>0.10</th>\n",
       "      <td>0.086667</td>\n",
       "      <td>0.088000</td>\n",
       "      <td>0.086667</td>\n",
       "    </tr>\n",
       "    <tr>\n",
       "      <th>0.20</th>\n",
       "      <td>0.178667</td>\n",
       "      <td>0.178667</td>\n",
       "      <td>0.178667</td>\n",
       "    </tr>\n",
       "  </tbody>\n",
       "</table>\n",
       "</div>"
      ],
      "text/plain": [
       "                margin        IP    myFunc\n",
       "significance                              \n",
       "0.05          0.009333  0.009333  0.009333\n",
       "0.10          0.086667  0.088000  0.086667\n",
       "0.20          0.178667  0.178667  0.178667"
      ]
     },
     "execution_count": 20,
     "metadata": {},
     "output_type": "execute_result"
    }
   ],
   "source": [
    "col = 'class_empty'\n",
    "tmp = pd.DataFrame({\n",
    "    'margin': scores_m[col],\n",
    "    'IP': scores_ip[col],\n",
    "    'myFunc': scores_myFunc[col],\n",
    "})\n",
    "print(col)\n",
    "tmp"
   ]
  },
  {
   "cell_type": "code",
   "execution_count": 21,
   "id": "1df9c2b4",
   "metadata": {},
   "outputs": [
    {
     "data": {
      "image/png": "[encoded data removed]",
      "text/plain": [
       "<Figure size 432x288 with 1 Axes>"
      ]
     },
     "metadata": {
      "needs_background": "light"
     },
     "output_type": "display_data"
    }
   ],
   "source": [
    "plt.plot(scores_m.index, scores_m['class_one_c'], c='b')\n",
    "plt.plot(scores_ip.index, scores_ip['class_one_c'], c='orange')\n",
    "plt.plot(scores_ip.index, scores_myFunc['class_one_c'], c='green')\n",
    "\n",
    "plt.plot(scores_m.index, scores_m['class_empty'], '--', c='b',)\n",
    "plt.plot(scores_ip.index, scores_ip['class_empty'], '--', c='orange')\n",
    "plt.plot(scores_ip.index, scores_myFunc['class_empty'], '--', c='green')\n",
    "\n",
    "plt.grid(True)\n",
    "plt.xticks(scores_m.index)\n",
    "plt.title('$oneC$, $zeroC$')\n",
    "plt.legend(['$oneC$: margin', '$oneC$: IP', '$oneC$: myFunc',\n",
    "            '$zeroC$: margin', '$zeroC$: IP', '$zeroC$: myFunc',\n",
    "            \n",
    "           ])\n",
    "plt.show()"
   ]
  },
  {
   "cell_type": "markdown",
   "id": "feb6839a",
   "metadata": {},
   "source": [
    "# Synthetic dataset"
   ]
  },
  {
   "cell_type": "code",
   "execution_count": 22,
   "id": "42796dfa",
   "metadata": {},
   "outputs": [
    {
     "data": {
      "image/png": "[encoded data removed]",
      "text/plain": [
       "<Figure size 504x432 with 1 Axes>"
      ]
     },
     "metadata": {
      "needs_background": "light"
     },
     "output_type": "display_data"
    }
   ],
   "source": [
    "import pandas as pd\n",
    "\n",
    "np.random.seed(20)\n",
    "# centers of 4 classes\n",
    "centers = [\n",
    "    [ 1,  0],\n",
    "    [ 0,  1],\n",
    "    [-1,  0],\n",
    "    [ 0, -1],\n",
    "]\n",
    "\n",
    "# colors to plot members of different classes\n",
    "color_arr = ['r', 'b', 'g', 'y']\n",
    "\n",
    "# number of instances per class\n",
    "n_points = 2000\n",
    "# these arrays will store information about datapoints\n",
    "data_x = []\n",
    "data_y = []\n",
    "data_class = []\n",
    "data_color = []\n",
    "\n",
    "# standard deviation to generate the class instances\n",
    "sigma = 0.8\n",
    "# data generation\n",
    "for class_val in range(0, len(centers)):\n",
    "    x, y = centers[class_val]\n",
    "    data_class.extend([class_val for j in range(0, n_points)])\n",
    "    data_color.extend([color_arr[class_val] for j in range(0, n_points)])\n",
    "    data_x.extend(np.random.normal(x, sigma, size=n_points))\n",
    "    data_y.extend(np.random.normal(y, sigma, size=n_points))\n",
    "# putting everything into a dataframe\n",
    "data_df = pd.DataFrame({\n",
    "    'x': data_x,\n",
    "    'y': data_y,\n",
    "    'class': data_class,\n",
    "    'color': data_color,\n",
    "})\n",
    "# plotting the dataset\n",
    "data_df.plot(\n",
    "    kind='scatter',\n",
    "    x='x',\n",
    "    y='y',\n",
    "    c=data_df['color'],\n",
    "    s=1,\n",
    "    grid=True,\n",
    "    figsize=(7,6),\n",
    ")\n",
    "\n",
    "data = {'data': data_df[['x', 'y']].values, 'target': data_df['class'].values}\n",
    "\n",
    "# showing the centers in orange\n",
    "plt.scatter(np.array(centers).T[0], np.array(centers).T[1], s=70, c='orange', label='Centers')\n",
    "plt.legend()\n",
    "plt.show()"
   ]
  },
  {
   "cell_type": "code",
   "execution_count": 23,
   "id": "5463ec00",
   "metadata": {},
   "outputs": [
    {
     "name": "stdout",
     "output_type": "stream",
     "text": [
      "iter 5/5 fold 5/5InverseProbabilityErrFunc\n"
     ]
    },
    {
     "data": {
      "text/html": [
       "<div>\n",
       "<style scoped>\n",
       "    .dataframe tbody tr th:only-of-type {\n",
       "        vertical-align: middle;\n",
       "    }\n",
       "\n",
       "    .dataframe tbody tr th {\n",
       "        vertical-align: top;\n",
       "    }\n",
       "\n",
       "    .dataframe thead th {\n",
       "        text-align: right;\n",
       "    }\n",
       "</style>\n",
       "<table border=\"1\" class=\"dataframe\">\n",
       "  <thead>\n",
       "    <tr style=\"text-align: right;\">\n",
       "      <th></th>\n",
       "      <th>class_mean_errors</th>\n",
       "      <th>class_avg_c</th>\n",
       "      <th>class_one_c</th>\n",
       "      <th>class_empty</th>\n",
       "    </tr>\n",
       "    <tr>\n",
       "      <th>significance</th>\n",
       "      <th></th>\n",
       "      <th></th>\n",
       "      <th></th>\n",
       "      <th></th>\n",
       "    </tr>\n",
       "  </thead>\n",
       "  <tbody>\n",
       "    <tr>\n",
       "      <th>0.05</th>\n",
       "      <td>0.042875</td>\n",
       "      <td>2.727250</td>\n",
       "      <td>0.067000</td>\n",
       "      <td>0.0</td>\n",
       "    </tr>\n",
       "    <tr>\n",
       "      <th>0.10</th>\n",
       "      <td>0.093275</td>\n",
       "      <td>2.215025</td>\n",
       "      <td>0.185825</td>\n",
       "      <td>0.0</td>\n",
       "    </tr>\n",
       "    <tr>\n",
       "      <th>0.20</th>\n",
       "      <td>0.194775</td>\n",
       "      <td>1.628775</td>\n",
       "      <td>0.444200</td>\n",
       "      <td>0.0</td>\n",
       "    </tr>\n",
       "  </tbody>\n",
       "</table>\n",
       "</div>"
      ],
      "text/plain": [
       "              class_mean_errors  class_avg_c  class_one_c  class_empty\n",
       "significance                                                          \n",
       "0.05                   0.042875     2.727250     0.067000          0.0\n",
       "0.10                   0.093275     2.215025     0.185825          0.0\n",
       "0.20                   0.194775     1.628775     0.444200          0.0"
      ]
     },
     "execution_count": 23,
     "metadata": {},
     "output_type": "execute_result"
    }
   ],
   "source": [
    "icp = IcpClassifier(ClassifierNc(ClassifierAdapter(RandomForestClassifier(n_estimators=100),\n",
    "                                                   #SVC(probability=True),\n",
    "                                                  ), \n",
    "                                 err_func=InverseProbabilityErrFunc()), \n",
    "                    smoothing=False)\n",
    "icp_cv = ClassIcpCvHelper(icp)\n",
    "\n",
    "np.random.seed(10)\n",
    "random.seed(10)\n",
    "\n",
    "scores = cross_val_score(icp_cv,\n",
    "                         data['data'],\n",
    "                         data['target'],\n",
    "                         iterations=5,\n",
    "                         folds=5,\n",
    "                         scoring_funcs=[\n",
    "                             class_mean_errors,\n",
    "                             class_avg_c,\n",
    "                             class_one_c,\n",
    "                             class_empty,\n",
    "                         ],\n",
    "                         significance_levels=[0.05, 0.1, 0.2],\n",
    "                         verbose=True,\n",
    "                         )\n",
    "\n",
    "print('InverseProbabilityErrFunc')\n",
    "\n",
    "scores = scores.drop(['fold', 'iter'], axis=1)\n",
    "scores_ip = scores.groupby(['significance']).mean()\n",
    "scores_ip"
   ]
  },
  {
   "cell_type": "code",
   "execution_count": 24,
   "id": "d877eb0c",
   "metadata": {},
   "outputs": [
    {
     "name": "stdout",
     "output_type": "stream",
     "text": [
      "iter 5/5 fold 5/5MarginErrFunc\n"
     ]
    },
    {
     "data": {
      "text/html": [
       "<div>\n",
       "<style scoped>\n",
       "    .dataframe tbody tr th:only-of-type {\n",
       "        vertical-align: middle;\n",
       "    }\n",
       "\n",
       "    .dataframe tbody tr th {\n",
       "        vertical-align: top;\n",
       "    }\n",
       "\n",
       "    .dataframe thead th {\n",
       "        text-align: right;\n",
       "    }\n",
       "</style>\n",
       "<table border=\"1\" class=\"dataframe\">\n",
       "  <thead>\n",
       "    <tr style=\"text-align: right;\">\n",
       "      <th></th>\n",
       "      <th>class_mean_errors</th>\n",
       "      <th>class_avg_c</th>\n",
       "      <th>class_one_c</th>\n",
       "      <th>class_empty</th>\n",
       "    </tr>\n",
       "    <tr>\n",
       "      <th>significance</th>\n",
       "      <th></th>\n",
       "      <th></th>\n",
       "      <th></th>\n",
       "      <th></th>\n",
       "    </tr>\n",
       "  </thead>\n",
       "  <tbody>\n",
       "    <tr>\n",
       "      <th>0.05</th>\n",
       "      <td>0.048075</td>\n",
       "      <td>3.074150</td>\n",
       "      <td>0.229250</td>\n",
       "      <td>0.0</td>\n",
       "    </tr>\n",
       "    <tr>\n",
       "      <th>0.10</th>\n",
       "      <td>0.098425</td>\n",
       "      <td>2.498400</td>\n",
       "      <td>0.361800</td>\n",
       "      <td>0.0</td>\n",
       "    </tr>\n",
       "    <tr>\n",
       "      <th>0.20</th>\n",
       "      <td>0.197725</td>\n",
       "      <td>1.683875</td>\n",
       "      <td>0.566725</td>\n",
       "      <td>0.0</td>\n",
       "    </tr>\n",
       "  </tbody>\n",
       "</table>\n",
       "</div>"
      ],
      "text/plain": [
       "              class_mean_errors  class_avg_c  class_one_c  class_empty\n",
       "significance                                                          \n",
       "0.05                   0.048075     3.074150     0.229250          0.0\n",
       "0.10                   0.098425     2.498400     0.361800          0.0\n",
       "0.20                   0.197725     1.683875     0.566725          0.0"
      ]
     },
     "execution_count": 24,
     "metadata": {},
     "output_type": "execute_result"
    }
   ],
   "source": [
    "icp = IcpClassifier(ClassifierNc(ClassifierAdapter(RandomForestClassifier(n_estimators=100),\n",
    "                                                   #SVC(probability=True),\n",
    "                                                  ), \n",
    "                                 err_func=MarginErrFunc()), \n",
    "                    smoothing=False)\n",
    "icp_cv = ClassIcpCvHelper(icp)\n",
    "\n",
    "np.random.seed(10)\n",
    "random.seed(10)\n",
    "\n",
    "scores = cross_val_score(icp_cv,\n",
    "                         data['data'],\n",
    "                         data['target'],\n",
    "                         iterations=5,\n",
    "                         folds=5,\n",
    "                         scoring_funcs=[\n",
    "                             class_mean_errors,\n",
    "                             class_avg_c,\n",
    "                             class_one_c,\n",
    "                             class_empty,\n",
    "                         ],\n",
    "                         significance_levels=[0.05, 0.1, 0.2],\n",
    "                         verbose=True,\n",
    "                         )\n",
    "\n",
    "print('MarginErrFunc')\n",
    "\n",
    "scores = scores.drop(['fold', 'iter'], axis=1)\n",
    "scores_m = scores.groupby(['significance']).mean()\n",
    "scores_m"
   ]
  },
  {
   "cell_type": "code",
   "execution_count": 25,
   "id": "2e8aa1b3",
   "metadata": {},
   "outputs": [
    {
     "name": "stdout",
     "output_type": "stream",
     "text": [
      "iter 5/5 fold 5/5myFunc\n"
     ]
    },
    {
     "data": {
      "text/html": [
       "<div>\n",
       "<style scoped>\n",
       "    .dataframe tbody tr th:only-of-type {\n",
       "        vertical-align: middle;\n",
       "    }\n",
       "\n",
       "    .dataframe tbody tr th {\n",
       "        vertical-align: top;\n",
       "    }\n",
       "\n",
       "    .dataframe thead th {\n",
       "        text-align: right;\n",
       "    }\n",
       "</style>\n",
       "<table border=\"1\" class=\"dataframe\">\n",
       "  <thead>\n",
       "    <tr style=\"text-align: right;\">\n",
       "      <th></th>\n",
       "      <th>class_mean_errors</th>\n",
       "      <th>class_avg_c</th>\n",
       "      <th>class_one_c</th>\n",
       "      <th>class_empty</th>\n",
       "    </tr>\n",
       "    <tr>\n",
       "      <th>significance</th>\n",
       "      <th></th>\n",
       "      <th></th>\n",
       "      <th></th>\n",
       "      <th></th>\n",
       "    </tr>\n",
       "  </thead>\n",
       "  <tbody>\n",
       "    <tr>\n",
       "      <th>0.05</th>\n",
       "      <td>0.047825</td>\n",
       "      <td>3.189400</td>\n",
       "      <td>0.26280</td>\n",
       "      <td>0.0</td>\n",
       "    </tr>\n",
       "    <tr>\n",
       "      <th>0.10</th>\n",
       "      <td>0.098825</td>\n",
       "      <td>2.670325</td>\n",
       "      <td>0.41005</td>\n",
       "      <td>0.0</td>\n",
       "    </tr>\n",
       "    <tr>\n",
       "      <th>0.20</th>\n",
       "      <td>0.197500</td>\n",
       "      <td>1.769050</td>\n",
       "      <td>0.61275</td>\n",
       "      <td>0.0</td>\n",
       "    </tr>\n",
       "  </tbody>\n",
       "</table>\n",
       "</div>"
      ],
      "text/plain": [
       "              class_mean_errors  class_avg_c  class_one_c  class_empty\n",
       "significance                                                          \n",
       "0.05                   0.047825     3.189400      0.26280          0.0\n",
       "0.10                   0.098825     2.670325      0.41005          0.0\n",
       "0.20                   0.197500     1.769050      0.61275          0.0"
      ]
     },
     "execution_count": 25,
     "metadata": {},
     "output_type": "execute_result"
    }
   ],
   "source": [
    "icp = IcpClassifier(ClassifierNc(ClassifierAdapter(RandomForestClassifier(n_estimators=100),\n",
    "                                                   #SVC(probability=True)\n",
    "                                                  ), \n",
    "                                 err_func=MyClassErrFunc()), \n",
    "                    smoothing=False)\n",
    "icp_cv = ClassIcpCvHelper(icp)\n",
    "\n",
    "np.random.seed(10)\n",
    "random.seed(10)\n",
    "\n",
    "scores = cross_val_score(icp_cv,\n",
    "                         data['data'],\n",
    "                         data['target'],\n",
    "                         iterations=5,\n",
    "                         folds=5,\n",
    "                         scoring_funcs=[\n",
    "                             class_mean_errors,\n",
    "                             class_avg_c,\n",
    "                             class_one_c,\n",
    "                             class_empty,\n",
    "                         ],\n",
    "                         significance_levels=[0.05, 0.1, 0.2],\n",
    "                         verbose=True,\n",
    "                         )\n",
    "\n",
    "print('myFunc')\n",
    "\n",
    "scores = scores.drop(['fold', 'iter'], axis=1)\n",
    "scores_myFunc = scores.groupby(['significance']).mean()\n",
    "scores_myFunc"
   ]
  },
  {
   "cell_type": "markdown",
   "id": "309a4168",
   "metadata": {},
   "source": [
    "### Validity"
   ]
  },
  {
   "cell_type": "code",
   "execution_count": 26,
   "id": "95b48e08",
   "metadata": {},
   "outputs": [
    {
     "data": {
      "image/png": "[encoded data removed]",
      "text/plain": [
       "<Figure size 432x288 with 1 Axes>"
      ]
     },
     "metadata": {
      "needs_background": "light"
     },
     "output_type": "display_data"
    }
   ],
   "source": [
    "plt.plot(scores_m.index, scores_m['class_mean_errors'])\n",
    "plt.plot(scores_ip.index, scores_ip['class_mean_errors'], )\n",
    "plt.plot(scores_ip.index, scores_myFunc['class_mean_errors'], )\n",
    "plt.grid(True)\n",
    "plt.xticks(scores_m.index)\n",
    "plt.yticks(scores_m.index)\n",
    "plt.title('Validity')\n",
    "plt.legend(['margin', 'IP', 'myFunc'])\n",
    "plt.show()"
   ]
  },
  {
   "cell_type": "markdown",
   "id": "dce65de9",
   "metadata": {},
   "source": [
    "### $avgC$"
   ]
  },
  {
   "cell_type": "code",
   "execution_count": 27,
   "id": "c14d6dc7",
   "metadata": {},
   "outputs": [
    {
     "name": "stdout",
     "output_type": "stream",
     "text": [
      "class_avg_c\n"
     ]
    },
    {
     "data": {
      "text/html": [
       "<div>\n",
       "<style scoped>\n",
       "    .dataframe tbody tr th:only-of-type {\n",
       "        vertical-align: middle;\n",
       "    }\n",
       "\n",
       "    .dataframe tbody tr th {\n",
       "        vertical-align: top;\n",
       "    }\n",
       "\n",
       "    .dataframe thead th {\n",
       "        text-align: right;\n",
       "    }\n",
       "</style>\n",
       "<table border=\"1\" class=\"dataframe\">\n",
       "  <thead>\n",
       "    <tr style=\"text-align: right;\">\n",
       "      <th></th>\n",
       "      <th>margin</th>\n",
       "      <th>IP</th>\n",
       "      <th>myFunc</th>\n",
       "    </tr>\n",
       "    <tr>\n",
       "      <th>significance</th>\n",
       "      <th></th>\n",
       "      <th></th>\n",
       "      <th></th>\n",
       "    </tr>\n",
       "  </thead>\n",
       "  <tbody>\n",
       "    <tr>\n",
       "      <th>0.05</th>\n",
       "      <td>3.074150</td>\n",
       "      <td>2.727250</td>\n",
       "      <td>3.189400</td>\n",
       "    </tr>\n",
       "    <tr>\n",
       "      <th>0.10</th>\n",
       "      <td>2.498400</td>\n",
       "      <td>2.215025</td>\n",
       "      <td>2.670325</td>\n",
       "    </tr>\n",
       "    <tr>\n",
       "      <th>0.20</th>\n",
       "      <td>1.683875</td>\n",
       "      <td>1.628775</td>\n",
       "      <td>1.769050</td>\n",
       "    </tr>\n",
       "  </tbody>\n",
       "</table>\n",
       "</div>"
      ],
      "text/plain": [
       "                margin        IP    myFunc\n",
       "significance                              \n",
       "0.05          3.074150  2.727250  3.189400\n",
       "0.10          2.498400  2.215025  2.670325\n",
       "0.20          1.683875  1.628775  1.769050"
      ]
     },
     "execution_count": 27,
     "metadata": {},
     "output_type": "execute_result"
    }
   ],
   "source": [
    "col = 'class_avg_c'\n",
    "tmp = pd.DataFrame({\n",
    "    'margin': scores_m[col],\n",
    "    'IP': scores_ip[col],\n",
    "    'myFunc': scores_myFunc[col]\n",
    "})\n",
    "print(col)\n",
    "tmp"
   ]
  },
  {
   "cell_type": "code",
   "execution_count": 28,
   "id": "93969d4c",
   "metadata": {},
   "outputs": [
    {
     "data": {
      "image/png": "[encoded data removed]",
      "text/plain": [
       "<Figure size 432x288 with 1 Axes>"
      ]
     },
     "metadata": {
      "needs_background": "light"
     },
     "output_type": "display_data"
    }
   ],
   "source": [
    "plt.plot(scores_m.index, scores_m['class_avg_c'], c='b')\n",
    "plt.plot(scores_ip.index, scores_ip['class_avg_c'], c='orange')\n",
    "plt.plot(scores_ip.index, scores_myFunc['class_avg_c'], c='green')\n",
    "plt.grid(True)\n",
    "plt.xticks(scores_m.index)\n",
    "plt.title('$avgC$')\n",
    "plt.legend(['margin', 'IP', 'myFunc'])\n",
    "plt.show()"
   ]
  },
  {
   "cell_type": "markdown",
   "id": "fa982e29",
   "metadata": {},
   "source": [
    "### $oneC$, $zeroC$"
   ]
  },
  {
   "cell_type": "code",
   "execution_count": 29,
   "id": "d596fca0",
   "metadata": {},
   "outputs": [
    {
     "name": "stdout",
     "output_type": "stream",
     "text": [
      "class_one_c\n"
     ]
    },
    {
     "data": {
      "text/html": [
       "<div>\n",
       "<style scoped>\n",
       "    .dataframe tbody tr th:only-of-type {\n",
       "        vertical-align: middle;\n",
       "    }\n",
       "\n",
       "    .dataframe tbody tr th {\n",
       "        vertical-align: top;\n",
       "    }\n",
       "\n",
       "    .dataframe thead th {\n",
       "        text-align: right;\n",
       "    }\n",
       "</style>\n",
       "<table border=\"1\" class=\"dataframe\">\n",
       "  <thead>\n",
       "    <tr style=\"text-align: right;\">\n",
       "      <th></th>\n",
       "      <th>margin</th>\n",
       "      <th>IP</th>\n",
       "      <th>myFunc</th>\n",
       "    </tr>\n",
       "    <tr>\n",
       "      <th>significance</th>\n",
       "      <th></th>\n",
       "      <th></th>\n",
       "      <th></th>\n",
       "    </tr>\n",
       "  </thead>\n",
       "  <tbody>\n",
       "    <tr>\n",
       "      <th>0.05</th>\n",
       "      <td>0.229250</td>\n",
       "      <td>0.067000</td>\n",
       "      <td>0.26280</td>\n",
       "    </tr>\n",
       "    <tr>\n",
       "      <th>0.10</th>\n",
       "      <td>0.361800</td>\n",
       "      <td>0.185825</td>\n",
       "      <td>0.41005</td>\n",
       "    </tr>\n",
       "    <tr>\n",
       "      <th>0.20</th>\n",
       "      <td>0.566725</td>\n",
       "      <td>0.444200</td>\n",
       "      <td>0.61275</td>\n",
       "    </tr>\n",
       "  </tbody>\n",
       "</table>\n",
       "</div>"
      ],
      "text/plain": [
       "                margin        IP   myFunc\n",
       "significance                             \n",
       "0.05          0.229250  0.067000  0.26280\n",
       "0.10          0.361800  0.185825  0.41005\n",
       "0.20          0.566725  0.444200  0.61275"
      ]
     },
     "execution_count": 29,
     "metadata": {},
     "output_type": "execute_result"
    }
   ],
   "source": [
    "col = 'class_one_c'\n",
    "tmp = pd.DataFrame({\n",
    "    'margin': scores_m[col],\n",
    "    'IP': scores_ip[col],\n",
    "    'myFunc': scores_myFunc[col],\n",
    "})\n",
    "print(col)\n",
    "tmp"
   ]
  },
  {
   "cell_type": "code",
   "execution_count": 30,
   "id": "0b451c90",
   "metadata": {},
   "outputs": [
    {
     "name": "stdout",
     "output_type": "stream",
     "text": [
      "class_empty\n"
     ]
    },
    {
     "data": {
      "text/html": [
       "<div>\n",
       "<style scoped>\n",
       "    .dataframe tbody tr th:only-of-type {\n",
       "        vertical-align: middle;\n",
       "    }\n",
       "\n",
       "    .dataframe tbody tr th {\n",
       "        vertical-align: top;\n",
       "    }\n",
       "\n",
       "    .dataframe thead th {\n",
       "        text-align: right;\n",
       "    }\n",
       "</style>\n",
       "<table border=\"1\" class=\"dataframe\">\n",
       "  <thead>\n",
       "    <tr style=\"text-align: right;\">\n",
       "      <th></th>\n",
       "      <th>margin</th>\n",
       "      <th>IP</th>\n",
       "      <th>myFunc</th>\n",
       "    </tr>\n",
       "    <tr>\n",
       "      <th>significance</th>\n",
       "      <th></th>\n",
       "      <th></th>\n",
       "      <th></th>\n",
       "    </tr>\n",
       "  </thead>\n",
       "  <tbody>\n",
       "    <tr>\n",
       "      <th>0.05</th>\n",
       "      <td>0.0</td>\n",
       "      <td>0.0</td>\n",
       "      <td>0.0</td>\n",
       "    </tr>\n",
       "    <tr>\n",
       "      <th>0.10</th>\n",
       "      <td>0.0</td>\n",
       "      <td>0.0</td>\n",
       "      <td>0.0</td>\n",
       "    </tr>\n",
       "    <tr>\n",
       "      <th>0.20</th>\n",
       "      <td>0.0</td>\n",
       "      <td>0.0</td>\n",
       "      <td>0.0</td>\n",
       "    </tr>\n",
       "  </tbody>\n",
       "</table>\n",
       "</div>"
      ],
      "text/plain": [
       "              margin   IP  myFunc\n",
       "significance                     \n",
       "0.05             0.0  0.0     0.0\n",
       "0.10             0.0  0.0     0.0\n",
       "0.20             0.0  0.0     0.0"
      ]
     },
     "execution_count": 30,
     "metadata": {},
     "output_type": "execute_result"
    }
   ],
   "source": [
    "col = 'class_empty'\n",
    "tmp = pd.DataFrame({\n",
    "    'margin': scores_m[col],\n",
    "    'IP': scores_ip[col],\n",
    "    'myFunc': scores_myFunc[col],\n",
    "})\n",
    "print(col)\n",
    "tmp"
   ]
  },
  {
   "cell_type": "code",
   "execution_count": 31,
   "id": "566cb05a",
   "metadata": {},
   "outputs": [
    {
     "data": {
      "image/png": "[encoded data removed]",
      "text/plain": [
       "<Figure size 432x288 with 1 Axes>"
      ]
     },
     "metadata": {
      "needs_background": "light"
     },
     "output_type": "display_data"
    }
   ],
   "source": [
    "plt.plot(scores_m.index, scores_m['class_one_c'], c='b')\n",
    "plt.plot(scores_ip.index, scores_ip['class_one_c'], c='orange')\n",
    "plt.plot(scores_ip.index, scores_myFunc['class_one_c'], c='green')\n",
    "\n",
    "plt.plot(scores_m.index, scores_m['class_empty'], '--', c='b',)\n",
    "plt.plot(scores_ip.index, scores_ip['class_empty'], '--', c='orange')\n",
    "plt.plot(scores_ip.index, scores_myFunc['class_empty'], '--', c='green')\n",
    "\n",
    "plt.grid(True)\n",
    "plt.xticks(scores_m.index)\n",
    "plt.title('$oneC$, $zeroC$')\n",
    "plt.legend(['$oneC$: margin', '$oneC$: IP', '$oneC$: myFunc',\n",
    "            '$zeroC$: margin', '$zeroC$: IP', '$zeroC$: myFunc',\n",
    "            \n",
    "           ])\n",
    "plt.show()"
   ]
  },
  {
   "cell_type": "code",
   "execution_count": 32,
   "id": "50da64bc",
   "metadata": {},
   "outputs": [
    {
     "data": {
      "image/png": "[encoded data removed]",
      "text/plain": [
       "<Figure size 432x288 with 1 Axes>"
      ]
     },
     "metadata": {
      "needs_background": "light"
     },
     "output_type": "display_data"
    }
   ],
   "source": [
    "plt.plot(scores_m.index, scores_m['class_empty'], '--', c='b',)\n",
    "plt.plot(scores_ip.index, scores_ip['class_empty'], '--', c='orange')\n",
    "plt.plot(scores_ip.index, scores_myFunc['class_empty'], '--', c='green')\n",
    "\n",
    "plt.grid(True)\n",
    "plt.xticks(scores_m.index)\n",
    "plt.title('$zeroC$')\n",
    "plt.legend([#'$oneC$: margin', '$oneC$: IP', '$oneC$: myFunc',\n",
    "            '$zeroC$: margin', '$zeroC$: IP', '$zeroC$: myFunc',\n",
    "            \n",
    "           ])\n",
    "plt.show()"
   ]
  },
  {
   "cell_type": "markdown",
   "id": "08ded443",
   "metadata": {},
   "source": [
    "Try with other models:\n",
    "\n",
    "1. `KNeighborsClassifier(n_neighbors=10)`\n",
    "2. `AdaBoostClassifier()`\n",
    "\n",
    "Try with another dataset (any dataset, for example, from the [UCI ML repository](https://archive.ics.uci.edu/ml/index.php))"
   ]
  },
  {
   "cell_type": "code",
   "execution_count": null,
   "id": "8ff87016",
   "metadata": {},
   "outputs": [],
   "source": []
  }
 ],
 "metadata": {
  "kernelspec": {
   "display_name": "Python 3 (ipykernel)",
   "language": "python",
   "name": "python3"
  },
  "language_info": {
   "codemirror_mode": {
    "name": "ipython",
    "version": 3
   },
   "file_extension": ".py",
   "mimetype": "text/x-python",
   "name": "python",
   "nbconvert_exporter": "python",
   "pygments_lexer": "ipython3",
   "version": "3.7.9"
  },
  "toc": {
   "base_numbering": 1,
   "nav_menu": {},
   "number_sections": true,
   "sideBar": true,
   "skip_h1_title": false,
   "title_cell": "Table of Contents",
   "title_sidebar": "Contents",
   "toc_cell": false,
   "toc_position": {},
   "toc_section_display": true,
   "toc_window_display": true
  },
  "varInspector": {
   "cols": {
    "lenName": 16,
    "lenType": 16,
    "lenVar": 40
   },
   "kernels_config": {
    "python": {
     "delete_cmd_postfix": "",
     "delete_cmd_prefix": "del ",
     "library": "var_list.py",
     "varRefreshCmd": "print(var_dic_list())"
    },
    "r": {
     "delete_cmd_postfix": ") ",
     "delete_cmd_prefix": "rm(",
     "library": "var_list.r",
     "varRefreshCmd": "cat(var_dic_list()) "
    }
   },
   "types_to_exclude": [
    "module",
    "function",
    "builtin_function_or_method",
    "instance",
    "_Feature"
   ],
   "window_display": false
  }
 },
 "nbformat": 4,
 "nbformat_minor": 5
}
