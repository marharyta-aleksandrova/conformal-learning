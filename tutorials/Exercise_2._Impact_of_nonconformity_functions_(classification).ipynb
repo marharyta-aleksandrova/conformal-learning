{
 "cells": [
  {
   "cell_type": "markdown",
   "id": "9cc9677a",
   "metadata": {},
   "source": [
    "[![Open In Colab](https://colab.research.google.com/assets/colab-badge.svg)](https://colab.research.google.com/github/marharyta-aleksandrova/conformal-learning/blob/main/tutorials/Exercise_2._Impact_of_nonconformity_functions_(classification).ipynb)"
   ]
  },
  {
   "cell_type": "markdown",
   "id": "f1a3c979",
   "metadata": {},
   "source": [
    "Installing `nonconformist` library (uncomment the cells below)"
   ]
  },
  {
   "cell_type": "code",
   "execution_count": null,
   "id": "fb34f32b",
   "metadata": {},
   "outputs": [],
   "source": [
    "# !git clone https://github.com/donlnz/nonconformist"
   ]
  },
  {
   "cell_type": "code",
   "execution_count": null,
   "id": "6bdb3ae1",
   "metadata": {},
   "outputs": [],
   "source": [
    "# cd nonconformist"
   ]
  },
  {
   "cell_type": "code",
   "execution_count": null,
   "id": "6fb44819",
   "metadata": {},
   "outputs": [],
   "source": [
    "# !python setup.py install"
   ]
  },
  {
   "cell_type": "markdown",
   "id": "8771efa3",
   "metadata": {},
   "source": [
    "# Imports"
   ]
  },
  {
   "cell_type": "code",
   "execution_count": null,
   "id": "b6179f00",
   "metadata": {},
   "outputs": [],
   "source": [
    "import numpy as np\n",
    "\n",
    "from sklearn.ensemble import RandomForestClassifier, AdaBoostClassifier\n",
    "from sklearn.svm import SVC\n",
    "from sklearn.neighbors import KNeighborsClassifier\n",
    "\n",
    "from sklearn.datasets import load_iris\n",
    "\n",
    "from nonconformist.base import ClassifierAdapter\n",
    "from nonconformist.icp import IcpClassifier\n",
    "from nonconformist.nc import MarginErrFunc, InverseProbabilityErrFunc\n",
    "from nonconformist.nc import ClassifierNc\n",
    "from nonconformist.nc import NcFactory\n",
    "\n",
    "from nonconformist.evaluation import cross_val_score\n",
    "from nonconformist.evaluation import ClassIcpCvHelper\n",
    "from nonconformist.evaluation import class_avg_c, class_mean_errors, class_one_c, class_one_err, \\\n",
    "    class_mean_errors_one_class, class_one_err_one_class, class_mean_p_val, class_empty, n_test\n",
    "\n",
    "import random\n",
    "import matplotlib.pyplot as plt\n",
    "\n",
    "import pandas as pd"
   ]
  },
  {
   "cell_type": "markdown",
   "id": "c01a5dcf",
   "metadata": {},
   "source": [
    "# Iris data"
   ]
  },
  {
   "cell_type": "markdown",
   "id": "e7b2e2e3",
   "metadata": {},
   "source": [
    "## Margin vs IP"
   ]
  },
  {
   "cell_type": "markdown",
   "id": "88246dc8",
   "metadata": {},
   "source": [
    "Loading data"
   ]
  },
  {
   "cell_type": "code",
   "execution_count": null,
   "id": "1317efaf",
   "metadata": {},
   "outputs": [],
   "source": [
    "data = load_iris()"
   ]
  },
  {
   "cell_type": "markdown",
   "id": "d2650755",
   "metadata": {},
   "source": [
    "Inverse Probability"
   ]
  },
  {
   "cell_type": "code",
   "execution_count": null,
   "id": "ee036a3d",
   "metadata": {},
   "outputs": [],
   "source": [
    "icp = IcpClassifier(ClassifierNc(ClassifierAdapter(RandomForestClassifier(n_estimators=100),\n",
    "                                                   #KNeighborsClassifier(n_neighbors=10),\n",
    "                                                   #AdaBoostClassifier(),\n",
    "                                                  ), \n",
    "                                 err_func=InverseProbabilityErrFunc()), \n",
    "                    smoothing=False)\n",
    "icp_cv = ClassIcpCvHelper(icp)\n",
    "\n",
    "np.random.seed(10)\n",
    "random.seed(10)\n",
    "\n",
    "scores = cross_val_score(icp_cv,\n",
    "                         data['data'],\n",
    "                         data['target'],\n",
    "                         iterations=5,\n",
    "                         folds=5,\n",
    "                         scoring_funcs=[\n",
    "                             class_mean_errors,\n",
    "                             class_avg_c,\n",
    "                             class_one_c,\n",
    "                             class_empty,\n",
    "                         ],\n",
    "                         significance_levels=[0.05, 0.1, 0.2],\n",
    "                         verbose=True,\n",
    "                         )\n",
    "\n",
    "print('InverseProbabilityErrFunc')\n",
    "\n",
    "scores = scores.drop(['fold', 'iter'], axis=1)\n",
    "scores_ip = scores.groupby(['significance']).mean()\n",
    "scores_ip"
   ]
  },
  {
   "cell_type": "markdown",
   "id": "11c672a4",
   "metadata": {},
   "source": [
    "Margin"
   ]
  },
  {
   "cell_type": "code",
   "execution_count": null,
   "id": "9bcb855d",
   "metadata": {},
   "outputs": [],
   "source": [
    "icp = IcpClassifier(ClassifierNc(ClassifierAdapter(RandomForestClassifier(n_estimators=100),\n",
    "                                                   #KNeighborsClassifier(n_neighbors=10),\n",
    "                                                   #AdaBoostClassifier(),\n",
    "                                                  ), \n",
    "                                 err_func=MarginErrFunc()), \n",
    "                    smoothing=False)\n",
    "icp_cv = ClassIcpCvHelper(icp)\n",
    "\n",
    "np.random.seed(10)\n",
    "random.seed(10)\n",
    "\n",
    "scores = cross_val_score(icp_cv,\n",
    "                         data['data'],\n",
    "                         data['target'],\n",
    "                         iterations=5,\n",
    "                         folds=5,\n",
    "                         scoring_funcs=[\n",
    "                             class_mean_errors,\n",
    "                             class_avg_c,\n",
    "                             class_one_c,\n",
    "                             class_empty,\n",
    "                         ],\n",
    "                         significance_levels=[0.05, 0.1, 0.2],\n",
    "                         verbose=True,\n",
    "                         )\n",
    "\n",
    "print('MarginErrFunc')\n",
    "\n",
    "scores = scores.drop(['fold', 'iter'], axis=1)\n",
    "scores_m = scores.groupby(['significance']).mean()\n",
    "scores_m"
   ]
  },
  {
   "cell_type": "markdown",
   "id": "df946261",
   "metadata": {},
   "source": [
    "### Analysing validity"
   ]
  },
  {
   "cell_type": "code",
   "execution_count": null,
   "id": "387600b2",
   "metadata": {},
   "outputs": [],
   "source": [
    "plt.plot(scores_m.index, scores_m['class_mean_errors'])\n",
    "plt.plot(scores_ip.index, scores_ip['class_mean_errors'], )\n",
    "plt.grid(True)\n",
    "plt.xticks(scores_m.index)\n",
    "plt.yticks(scores_m.index)\n",
    "plt.title('Validity')\n",
    "plt.legend(['margin', 'IP'])\n",
    "plt.show()"
   ]
  },
  {
   "cell_type": "markdown",
   "id": "5155a2f5",
   "metadata": {},
   "source": [
    "### $avgC$"
   ]
  },
  {
   "cell_type": "code",
   "execution_count": null,
   "id": "3bd68d5e",
   "metadata": {},
   "outputs": [],
   "source": [
    "col = 'class_avg_c'\n",
    "tmp = pd.DataFrame({\n",
    "    'margin': scores_m[col],\n",
    "    'IP': scores_ip[col],\n",
    "})\n",
    "print(col)\n",
    "tmp"
   ]
  },
  {
   "cell_type": "code",
   "execution_count": null,
   "id": "3e9b1ca5",
   "metadata": {
    "scrolled": true
   },
   "outputs": [],
   "source": [
    "plt.plot(scores_m.index, scores_m['class_avg_c'], c='b')\n",
    "plt.plot(scores_ip.index, scores_ip['class_avg_c'], c='orange')\n",
    "plt.grid(True)\n",
    "plt.xticks(scores_m.index)\n",
    "plt.title('$avgC$')\n",
    "plt.legend(['margin', 'IP'])\n",
    "plt.show()"
   ]
  },
  {
   "cell_type": "markdown",
   "id": "1480518e",
   "metadata": {},
   "source": [
    "### $oneC$, $zeroC$"
   ]
  },
  {
   "cell_type": "code",
   "execution_count": null,
   "id": "9491f2bc",
   "metadata": {},
   "outputs": [],
   "source": [
    "col = 'class_one_c'\n",
    "tmp = pd.DataFrame({\n",
    "    'margin': scores_m[col],\n",
    "    'IP': scores_ip[col],\n",
    "})\n",
    "print(col)\n",
    "tmp"
   ]
  },
  {
   "cell_type": "code",
   "execution_count": null,
   "id": "7ec22e84",
   "metadata": {},
   "outputs": [],
   "source": [
    "col = 'class_empty'\n",
    "tmp = pd.DataFrame({\n",
    "    'margin': scores_m[col],\n",
    "    'IP': scores_ip[col],\n",
    "})\n",
    "print(col)\n",
    "tmp"
   ]
  },
  {
   "cell_type": "code",
   "execution_count": null,
   "id": "c32595ee",
   "metadata": {},
   "outputs": [],
   "source": [
    "plt.plot(scores_m.index, scores_m['class_one_c'], c='b')\n",
    "plt.plot(scores_ip.index, scores_ip['class_one_c'], c='orange')\n",
    "\n",
    "plt.plot(scores_m.index, scores_m['class_empty'], '--', c='b',)\n",
    "plt.plot(scores_ip.index, scores_ip['class_empty'], '--', c='orange')\n",
    "\n",
    "plt.grid(True)\n",
    "plt.xticks(scores_m.index)\n",
    "plt.title('$oneC$, $zeroC$')\n",
    "plt.legend(['$oneC$: margin', '$oneC$: IP', '$zeroC$: margin', '$zeroC$: IP'])\n",
    "plt.show()"
   ]
  },
  {
   "cell_type": "markdown",
   "id": "174edc6e",
   "metadata": {},
   "source": [
    "## Creating new nonconformity functions"
   ]
  },
  {
   "cell_type": "markdown",
   "id": "4f5fd704",
   "metadata": {},
   "source": [
    "Here, we introduce a nonconformity function for classification, where\n",
    "\n",
    "$\\alpha_i = \\sum_{y \\, \\neq \\, y_i} \\hat{P}\\left(y \\mid x_i \\right) ^ 2$"
   ]
  },
  {
   "cell_type": "code",
   "execution_count": null,
   "id": "bc2bc150",
   "metadata": {},
   "outputs": [],
   "source": [
    "from nonconformist.nc import ClassificationErrFunc\n",
    "\n",
    "class MyClassErrFunc(ClassificationErrFunc):\n",
    "    def __init__(self):\n",
    "        super(MyClassErrFunc, self).__init__()\n",
    "        \n",
    "    def apply(self, prediction, y):\n",
    "        '''\n",
    "            y is a vector of labels\n",
    "            prediction is a matrix of class probability estimates\n",
    "        '''\n",
    "        prob = np.zeros(y.size, dtype=np.float32)\n",
    "        for i, y_ in enumerate(y):\n",
    "            if y_ >= prediction.shape[1]:\n",
    "                prob[i] = 0\n",
    "            else:\n",
    "                prob[i] = (prediction[i, :] ** 2).sum()\n",
    "                prob[i] -= prediction[i, int(y_)] ** 2\n",
    "        return prob\n"
   ]
  },
  {
   "cell_type": "code",
   "execution_count": null,
   "id": "dfec0935",
   "metadata": {},
   "outputs": [],
   "source": [
    "icp = IcpClassifier(ClassifierNc(ClassifierAdapter(RandomForestClassifier(n_estimators=100),\n",
    "                                                   #KNeighborsClassifier(n_neighbors=10),\n",
    "                                                   #AdaBoostClassifier(),\n",
    "                                                  ), \n",
    "                                 err_func=MyClassErrFunc()), \n",
    "                    smoothing=False)\n",
    "icp_cv = ClassIcpCvHelper(icp)\n",
    "\n",
    "np.random.seed(10)\n",
    "random.seed(10)\n",
    "\n",
    "scores = cross_val_score(icp_cv,\n",
    "                         data['data'],\n",
    "                         data['target'],\n",
    "                         iterations=5,\n",
    "                         folds=5,\n",
    "                         scoring_funcs=[\n",
    "                             class_mean_errors,\n",
    "                             class_avg_c,\n",
    "                             class_one_c,\n",
    "                             class_empty,\n",
    "                         ],\n",
    "                         significance_levels=[0.05, 0.1, 0.2],\n",
    "                         verbose=True,\n",
    "                         )\n",
    "\n",
    "print('myFunc')\n",
    "\n",
    "scores = scores.drop(['fold', 'iter'], axis=1)\n",
    "scores_myFunc = scores.groupby(['significance']).mean()\n",
    "scores_myFunc"
   ]
  },
  {
   "cell_type": "markdown",
   "id": "23de2eac",
   "metadata": {},
   "source": [
    "### Validity"
   ]
  },
  {
   "cell_type": "code",
   "execution_count": null,
   "id": "42b0cfe5",
   "metadata": {},
   "outputs": [],
   "source": [
    "plt.plot(scores_m.index, scores_m['class_mean_errors'])\n",
    "plt.plot(scores_ip.index, scores_ip['class_mean_errors'], )\n",
    "plt.plot(scores_ip.index, scores_myFunc['class_mean_errors'], )\n",
    "plt.grid(True)\n",
    "plt.xticks(scores_m.index)\n",
    "plt.yticks(scores_m.index)\n",
    "plt.title('Validity')\n",
    "plt.legend(['margin', 'IP', 'myFunc'])\n",
    "plt.show()"
   ]
  },
  {
   "cell_type": "markdown",
   "id": "5e07e760",
   "metadata": {},
   "source": [
    "### $avgC$"
   ]
  },
  {
   "cell_type": "code",
   "execution_count": null,
   "id": "f0f58fd5",
   "metadata": {},
   "outputs": [],
   "source": [
    "col = 'class_avg_c'\n",
    "tmp = pd.DataFrame({\n",
    "    'margin': scores_m[col],\n",
    "    'IP': scores_ip[col],\n",
    "    'myFunc': scores_myFunc[col]\n",
    "})\n",
    "print(col)\n",
    "tmp"
   ]
  },
  {
   "cell_type": "code",
   "execution_count": null,
   "id": "49b88721",
   "metadata": {},
   "outputs": [],
   "source": [
    "plt.plot(scores_m.index, scores_m['class_avg_c'], c='b')\n",
    "plt.plot(scores_ip.index, scores_ip['class_avg_c'], c='orange')\n",
    "plt.plot(scores_ip.index, scores_myFunc['class_avg_c'], c='green')\n",
    "plt.grid(True)\n",
    "plt.xticks(scores_m.index)\n",
    "plt.title('$avgC$')\n",
    "plt.legend(['margin', 'IP', 'myFunc'])\n",
    "plt.show()"
   ]
  },
  {
   "cell_type": "markdown",
   "id": "2fd2ac6f",
   "metadata": {},
   "source": [
    "### $oneC$, $zeroC$"
   ]
  },
  {
   "cell_type": "code",
   "execution_count": null,
   "id": "fa793df2",
   "metadata": {},
   "outputs": [],
   "source": [
    "col = 'class_one_c'\n",
    "tmp = pd.DataFrame({\n",
    "    'margin': scores_m[col],\n",
    "    'IP': scores_ip[col],\n",
    "    'myFunc': scores_myFunc[col],\n",
    "})\n",
    "print(col)\n",
    "tmp"
   ]
  },
  {
   "cell_type": "code",
   "execution_count": null,
   "id": "caff1b7f",
   "metadata": {},
   "outputs": [],
   "source": [
    "col = 'class_empty'\n",
    "tmp = pd.DataFrame({\n",
    "    'margin': scores_m[col],\n",
    "    'IP': scores_ip[col],\n",
    "    'myFunc': scores_myFunc[col],\n",
    "})\n",
    "print(col)\n",
    "tmp"
   ]
  },
  {
   "cell_type": "code",
   "execution_count": null,
   "id": "1797efc1",
   "metadata": {},
   "outputs": [],
   "source": [
    "plt.plot(scores_m.index, scores_m['class_one_c'], c='b')\n",
    "plt.plot(scores_ip.index, scores_ip['class_one_c'], c='orange')\n",
    "plt.plot(scores_ip.index, scores_myFunc['class_one_c'], c='green')\n",
    "\n",
    "plt.plot(scores_m.index, scores_m['class_empty'], '--', c='b',)\n",
    "plt.plot(scores_ip.index, scores_ip['class_empty'], '--', c='orange')\n",
    "plt.plot(scores_ip.index, scores_myFunc['class_empty'], '--', c='green')\n",
    "\n",
    "plt.grid(True)\n",
    "plt.xticks(scores_m.index)\n",
    "plt.title('$oneC$, $zeroC$')\n",
    "plt.legend(['$oneC$: margin', '$oneC$: IP', '$oneC$: myFunc',\n",
    "            '$zeroC$: margin', '$zeroC$: IP', '$zeroC$: myFunc',\n",
    "            \n",
    "           ])\n",
    "plt.show()"
   ]
  },
  {
   "cell_type": "markdown",
   "id": "feb6839a",
   "metadata": {},
   "source": [
    "# Synthetic dataset"
   ]
  },
  {
   "cell_type": "code",
   "execution_count": null,
   "id": "42796dfa",
   "metadata": {},
   "outputs": [],
   "source": [
    "import pandas as pd\n",
    "\n",
    "np.random.seed(20)\n",
    "# centers of 4 classes\n",
    "centers = [\n",
    "    [ 1,  0],\n",
    "    [ 0,  1],\n",
    "    [-1,  0],\n",
    "    [ 0, -1],\n",
    "]\n",
    "\n",
    "# colors to plot members of different classes\n",
    "color_arr = ['r', 'b', 'g', 'y']\n",
    "\n",
    "# number of instances per class\n",
    "n_points = 2000\n",
    "# these arrays will store information about datapoints\n",
    "data_x = []\n",
    "data_y = []\n",
    "data_class = []\n",
    "data_color = []\n",
    "\n",
    "# standard deviation to generate the class instances\n",
    "sigma = 0.8\n",
    "# data generation\n",
    "for class_val in range(0, len(centers)):\n",
    "    x, y = centers[class_val]\n",
    "    data_class.extend([class_val for j in range(0, n_points)])\n",
    "    data_color.extend([color_arr[class_val] for j in range(0, n_points)])\n",
    "    data_x.extend(np.random.normal(x, sigma, size=n_points))\n",
    "    data_y.extend(np.random.normal(y, sigma, size=n_points))\n",
    "# putting everything into a dataframe\n",
    "data_df = pd.DataFrame({\n",
    "    'x': data_x,\n",
    "    'y': data_y,\n",
    "    'class': data_class,\n",
    "    'color': data_color,\n",
    "})\n",
    "# plotting the dataset\n",
    "data_df.plot(\n",
    "    kind='scatter',\n",
    "    x='x',\n",
    "    y='y',\n",
    "    c=data_df['color'],\n",
    "    s=1,\n",
    "    grid=True,\n",
    "    figsize=(7,6),\n",
    ")\n",
    "\n",
    "data = {'data': data_df[['x', 'y']].values, 'target': data_df['class'].values}\n",
    "\n",
    "# showing the centers in orange\n",
    "plt.scatter(np.array(centers).T[0], np.array(centers).T[1], s=70, c='orange', label='Centers')\n",
    "plt.legend()\n",
    "plt.show()"
   ]
  },
  {
   "cell_type": "code",
   "execution_count": null,
   "id": "5463ec00",
   "metadata": {},
   "outputs": [],
   "source": [
    "icp = IcpClassifier(ClassifierNc(ClassifierAdapter(RandomForestClassifier(n_estimators=100),\n",
    "                                                   #SVC(probability=True),\n",
    "                                                  ), \n",
    "                                 err_func=InverseProbabilityErrFunc()), \n",
    "                    smoothing=False)\n",
    "icp_cv = ClassIcpCvHelper(icp)\n",
    "\n",
    "np.random.seed(10)\n",
    "random.seed(10)\n",
    "\n",
    "scores = cross_val_score(icp_cv,\n",
    "                         data['data'],\n",
    "                         data['target'],\n",
    "                         iterations=5,\n",
    "                         folds=5,\n",
    "                         scoring_funcs=[\n",
    "                             class_mean_errors,\n",
    "                             class_avg_c,\n",
    "                             class_one_c,\n",
    "                             class_empty,\n",
    "                         ],\n",
    "                         significance_levels=[0.05, 0.1, 0.2],\n",
    "                         verbose=True,\n",
    "                         )\n",
    "\n",
    "print('InverseProbabilityErrFunc')\n",
    "\n",
    "scores = scores.drop(['fold', 'iter'], axis=1)\n",
    "scores_ip = scores.groupby(['significance']).mean()\n",
    "scores_ip"
   ]
  },
  {
   "cell_type": "code",
   "execution_count": null,
   "id": "d877eb0c",
   "metadata": {},
   "outputs": [],
   "source": [
    "icp = IcpClassifier(ClassifierNc(ClassifierAdapter(RandomForestClassifier(n_estimators=100),\n",
    "                                                   #SVC(probability=True),\n",
    "                                                  ), \n",
    "                                 err_func=MarginErrFunc()), \n",
    "                    smoothing=False)\n",
    "icp_cv = ClassIcpCvHelper(icp)\n",
    "\n",
    "np.random.seed(10)\n",
    "random.seed(10)\n",
    "\n",
    "scores = cross_val_score(icp_cv,\n",
    "                         data['data'],\n",
    "                         data['target'],\n",
    "                         iterations=5,\n",
    "                         folds=5,\n",
    "                         scoring_funcs=[\n",
    "                             class_mean_errors,\n",
    "                             class_avg_c,\n",
    "                             class_one_c,\n",
    "                             class_empty,\n",
    "                         ],\n",
    "                         significance_levels=[0.05, 0.1, 0.2],\n",
    "                         verbose=True,\n",
    "                         )\n",
    "\n",
    "print('MarginErrFunc')\n",
    "\n",
    "scores = scores.drop(['fold', 'iter'], axis=1)\n",
    "scores_m = scores.groupby(['significance']).mean()\n",
    "scores_m"
   ]
  },
  {
   "cell_type": "code",
   "execution_count": null,
   "id": "2e8aa1b3",
   "metadata": {},
   "outputs": [],
   "source": [
    "icp = IcpClassifier(ClassifierNc(ClassifierAdapter(RandomForestClassifier(n_estimators=100),\n",
    "                                                   #SVC(probability=True)\n",
    "                                                  ), \n",
    "                                 err_func=MyClassErrFunc()), \n",
    "                    smoothing=False)\n",
    "icp_cv = ClassIcpCvHelper(icp)\n",
    "\n",
    "np.random.seed(10)\n",
    "random.seed(10)\n",
    "\n",
    "scores = cross_val_score(icp_cv,\n",
    "                         data['data'],\n",
    "                         data['target'],\n",
    "                         iterations=5,\n",
    "                         folds=5,\n",
    "                         scoring_funcs=[\n",
    "                             class_mean_errors,\n",
    "                             class_avg_c,\n",
    "                             class_one_c,\n",
    "                             class_empty,\n",
    "                         ],\n",
    "                         significance_levels=[0.05, 0.1, 0.2],\n",
    "                         verbose=True,\n",
    "                         )\n",
    "\n",
    "print('myFunc')\n",
    "\n",
    "scores = scores.drop(['fold', 'iter'], axis=1)\n",
    "scores_myFunc = scores.groupby(['significance']).mean()\n",
    "scores_myFunc"
   ]
  },
  {
   "cell_type": "markdown",
   "id": "95567151",
   "metadata": {},
   "source": [
    "### Validity"
   ]
  },
  {
   "cell_type": "code",
   "execution_count": null,
   "id": "4d66c192",
   "metadata": {},
   "outputs": [],
   "source": [
    "plt.plot(scores_m.index, scores_m['class_mean_errors'])\n",
    "plt.plot(scores_ip.index, scores_ip['class_mean_errors'], )\n",
    "plt.plot(scores_ip.index, scores_myFunc['class_mean_errors'], )\n",
    "plt.grid(True)\n",
    "plt.xticks(scores_m.index)\n",
    "plt.yticks(scores_m.index)\n",
    "plt.title('Validity')\n",
    "plt.legend(['margin', 'IP', 'myFunc'])\n",
    "plt.show()"
   ]
  },
  {
   "cell_type": "markdown",
   "id": "fbcb0643",
   "metadata": {},
   "source": [
    "### $avgC$"
   ]
  },
  {
   "cell_type": "code",
   "execution_count": null,
   "id": "458769d0",
   "metadata": {},
   "outputs": [],
   "source": [
    "col = 'class_avg_c'\n",
    "tmp = pd.DataFrame({\n",
    "    'margin': scores_m[col],\n",
    "    'IP': scores_ip[col],\n",
    "    'myFunc': scores_myFunc[col]\n",
    "})\n",
    "print(col)\n",
    "tmp"
   ]
  },
  {
   "cell_type": "code",
   "execution_count": null,
   "id": "1a36bd9c",
   "metadata": {},
   "outputs": [],
   "source": [
    "plt.plot(scores_m.index, scores_m['class_avg_c'], c='b')\n",
    "plt.plot(scores_ip.index, scores_ip['class_avg_c'], c='orange')\n",
    "plt.plot(scores_ip.index, scores_myFunc['class_avg_c'], c='green')\n",
    "plt.grid(True)\n",
    "plt.xticks(scores_m.index)\n",
    "plt.title('$avgC$')\n",
    "plt.legend(['margin', 'IP', 'myFunc'])\n",
    "plt.show()"
   ]
  },
  {
   "cell_type": "markdown",
   "id": "4653a62c",
   "metadata": {},
   "source": [
    "### $oneC$, $zeroC$"
   ]
  },
  {
   "cell_type": "code",
   "execution_count": null,
   "id": "37e041d5",
   "metadata": {},
   "outputs": [],
   "source": [
    "col = 'class_one_c'\n",
    "tmp = pd.DataFrame({\n",
    "    'margin': scores_m[col],\n",
    "    'IP': scores_ip[col],\n",
    "    'myFunc': scores_myFunc[col],\n",
    "})\n",
    "print(col)\n",
    "tmp"
   ]
  },
  {
   "cell_type": "code",
   "execution_count": null,
   "id": "4944fa32",
   "metadata": {},
   "outputs": [],
   "source": [
    "col = 'class_empty'\n",
    "tmp = pd.DataFrame({\n",
    "    'margin': scores_m[col],\n",
    "    'IP': scores_ip[col],\n",
    "    'myFunc': scores_myFunc[col],\n",
    "})\n",
    "print(col)\n",
    "tmp"
   ]
  },
  {
   "cell_type": "code",
   "execution_count": null,
   "id": "79ed8c0f",
   "metadata": {},
   "outputs": [],
   "source": [
    "plt.plot(scores_m.index, scores_m['class_one_c'], c='b')\n",
    "plt.plot(scores_ip.index, scores_ip['class_one_c'], c='orange')\n",
    "plt.plot(scores_ip.index, scores_myFunc['class_one_c'], c='green')\n",
    "\n",
    "plt.plot(scores_m.index, scores_m['class_empty'], '--', c='b',)\n",
    "plt.plot(scores_ip.index, scores_ip['class_empty'], '--', c='orange')\n",
    "plt.plot(scores_ip.index, scores_myFunc['class_empty'], '--', c='green')\n",
    "\n",
    "plt.grid(True)\n",
    "plt.xticks(scores_m.index)\n",
    "plt.title('$oneC$, $zeroC$')\n",
    "plt.legend(['$oneC$: margin', '$oneC$: IP', '$oneC$: myFunc',\n",
    "            '$zeroC$: margin', '$zeroC$: IP', '$zeroC$: myFunc',\n",
    "            \n",
    "           ])\n",
    "plt.show()"
   ]
  },
  {
   "cell_type": "code",
   "execution_count": null,
   "id": "b449ec2b",
   "metadata": {},
   "outputs": [],
   "source": [
    "plt.plot(scores_m.index, scores_m['class_empty'], '--', c='b',)\n",
    "plt.plot(scores_ip.index, scores_ip['class_empty'], '--', c='orange')\n",
    "plt.plot(scores_ip.index, scores_myFunc['class_empty'], '--', c='green')\n",
    "\n",
    "plt.grid(True)\n",
    "plt.xticks(scores_m.index)\n",
    "plt.title('$zeroC$')\n",
    "plt.legend([#'$oneC$: margin', '$oneC$: IP', '$oneC$: myFunc',\n",
    "            '$zeroC$: margin', '$zeroC$: IP', '$zeroC$: myFunc',\n",
    "            \n",
    "           ])\n",
    "plt.show()"
   ]
  },
  {
   "cell_type": "markdown",
   "id": "e25e7284",
   "metadata": {},
   "source": [
    "Other models:\n",
    "\n",
    "1. `KNeighborsClassifier(n_neighbors=10)`\n",
    "2. `AdaBoostClassifier()`"
   ]
  },
  {
   "cell_type": "code",
   "execution_count": null,
   "id": "34b54844",
   "metadata": {},
   "outputs": [],
   "source": []
  }
 ],
 "metadata": {
  "kernelspec": {
   "display_name": "Python 3 (ipykernel)",
   "language": "python",
   "name": "python3"
  },
  "language_info": {
   "codemirror_mode": {
    "name": "ipython",
    "version": 3
   },
   "file_extension": ".py",
   "mimetype": "text/x-python",
   "name": "python",
   "nbconvert_exporter": "python",
   "pygments_lexer": "ipython3",
   "version": "3.7.9"
  },
  "toc": {
   "base_numbering": 1,
   "nav_menu": {},
   "number_sections": true,
   "sideBar": true,
   "skip_h1_title": false,
   "title_cell": "Table of Contents",
   "title_sidebar": "Contents",
   "toc_cell": false,
   "toc_position": {},
   "toc_section_display": true,
   "toc_window_display": true
  },
  "varInspector": {
   "cols": {
    "lenName": 16,
    "lenType": 16,
    "lenVar": 40
   },
   "kernels_config": {
    "python": {
     "delete_cmd_postfix": "",
     "delete_cmd_prefix": "del ",
     "library": "var_list.py",
     "varRefreshCmd": "print(var_dic_list())"
    },
    "r": {
     "delete_cmd_postfix": ") ",
     "delete_cmd_prefix": "rm(",
     "library": "var_list.r",
     "varRefreshCmd": "cat(var_dic_list()) "
    }
   },
   "types_to_exclude": [
    "module",
    "function",
    "builtin_function_or_method",
    "instance",
    "_Feature"
   ],
   "window_display": false
  }
 },
 "nbformat": 4,
 "nbformat_minor": 5
}
